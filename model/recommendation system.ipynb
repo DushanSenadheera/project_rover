{
 "cells": [
  {
   "cell_type": "code",
   "execution_count": 10,
   "metadata": {},
   "outputs": [
    {
     "name": "stdout",
     "output_type": "stream",
     "text": [
      "                                          Title  Reviews  Rating           Category  Location  Duration  Budget                            Features\n",
      "       Old Town of Galle and its Fortifications     3511     4.5 point of interests     Galle         1       0   Galle point of interests 4.5 3511\n",
      "               Sea Turtle Farm Galle Mahamodara     1076     4.5  nature & wildlife     Galle         2      30    Galle nature & wildlife 4.5 1076\n",
      "                                  Bentota Beach     2305     4.5            beaches   Bentota         1       0            Bentota beaches 4.5 2305\n",
      "                                  Mirissa Beach     3095     4.5            beaches   Mirissa         1       0            Mirissa beaches 4.5 3095\n",
      "                                Hikkaduwa Beach     2383     4.0            beaches Hikkaduwa         3       0          Hikkaduwa beaches 4.0 2383\n",
      "                          Bundala National Park      595     4.5  nature & wildlife Weligatta         4      40 Weligatta nature & wildlife 4.5 595\n",
      "Kalametiya Lagoon Bird Sanctuary & Wetland Park      380     5.0  nature & wildlife  Tangalle         3      30  Tangalle nature & wildlife 5.0 380\n",
      "                       Sinharaja Forest Reserve      612     4.5  nature & wildlife  Deniyaya         4      30  Deniyaya nature & wildlife 4.5 612\n",
      "                                   Jungle Beach     2824     3.5            beaches Unawatuna         1       0          Unawatuna beaches 3.5 2824\n"
     ]
    }
   ],
   "source": [
    "import pandas as pd\n",
    "from sklearn.feature_extraction.text import TfidfVectorizer\n",
    "from sklearn.metrics.pairwise import linear_kernel\n",
    "\n",
    "# Load the dataset\n",
    "df = pd.read_csv('./dataset/southern.csv')\n",
    "\n",
    "# Combine the 'Location', 'Category', 'Rating', and 'Reviews' columns into a single 'Features' column\n",
    "df['Features'] = df['Location'] + ' ' + df['Category'] + ' ' + df['Rating'].astype(str) + ' ' + df['Reviews'].astype(str)\n",
    "\n",
    "# Calculate TF-IDF matrix\n",
    "tfidf = TfidfVectorizer(stop_words='english')\n",
    "df['Features'] = df['Features'].fillna('')\n",
    "tfidf_matrix = tfidf.fit_transform(df['Features'])\n",
    "\n",
    "# Calculate cosine similarity matrix\n",
    "cosine_sim = linear_kernel(tfidf_matrix, tfidf_matrix)\n",
    "\n",
    "# Function to recommend locations based on similarity score\n",
    "def recommend_locations_based_on_features(index, cosine_sim=cosine_sim):\n",
    "    sim_scores = list(enumerate(cosine_sim[index]))\n",
    "    sim_scores = sorted(sim_scores, key=lambda x: x[1], reverse=True)\n",
    "    sim_scores = sim_scores[1:11]\n",
    "    location_indices = [i[0] for i in sim_scores]\n",
    "    recommended_locations = df.iloc[location_indices]\n",
    "    return recommended_locations\n",
    "\n",
    "# Get user input\n",
    "user_input_location = \"Galle\"\n",
    "user_input_category = \"point of interests\"\n",
    "\n",
    "# Find the index of the location that matches the user's input\n",
    "location_index = df.loc[(df['Location'] == user_input_location) & (df['Category'] == user_input_category)].index[0]\n",
    "\n",
    "# Recommend locations based on the user's input\n",
    "recommendations = recommend_locations_based_on_features(location_index)\n",
    "\n",
    "if recommendations.empty:\n",
    "    print(\"No recommendations found for the given input.\")\n",
    "else:\n",
    "    print(recommendations.to_string(index=False))"
   ]
  }
 ],
 "metadata": {
  "kernelspec": {
   "display_name": "base",
   "language": "python",
   "name": "python3"
  },
  "language_info": {
   "codemirror_mode": {
    "name": "ipython",
    "version": 3
   },
   "file_extension": ".py",
   "mimetype": "text/x-python",
   "name": "python",
   "nbconvert_exporter": "python",
   "pygments_lexer": "ipython3",
   "version": "3.10.9"
  }
 },
 "nbformat": 4,
 "nbformat_minor": 2
}
