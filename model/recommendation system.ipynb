{
 "cells": [
  {
   "cell_type": "code",
   "execution_count": 9,
   "metadata": {},
   "outputs": [
    {
     "name": "stdout",
     "output_type": "stream",
     "text": [
      "     Title  Review  Rating          Category  About Location  Duration  Budget    score\n",
      "Galle Fort    3516     4.5 point of interest    NaN    Galle         3     NaN 4.450032\n"
     ]
    }
   ],
   "source": [
    "import pandas as pd\n",
    "\n",
    "# Load the dataset\n",
    "df = pd.read_csv('./dataset/southern.csv')\n",
    "\n",
    "#Calculate weighted rating\n",
    "C = df['Rating'].mean()\n",
    "m = df['Review'].quantile(0.9)\n",
    "q_locations = df.copy().loc[df['Review'] >= m]\n",
    "def weighted_rating(x, m=m, C=C):\n",
    "    v = x['Review']\n",
    "    R = x['Rating']\n",
    "    return (v/(v+m) * R) + (m/(m+v) * C)\n",
    "q_locations['score'] = q_locations.apply(weighted_rating, axis=1)\n",
    "\n",
    "# Function to recommend locations based on score\n",
    "def recommend_locations(location):\n",
    "    df_location = q_locations[(q_locations['Location'] == location)]\n",
    "    df_location = df_location.sort_values('score', ascending=False)\n",
    "    return df_location\n",
    "\n",
    "# Test the function\n",
    "recommendations = recommend_locations('Galle')\n",
    "print(recommendations.to_string(index=False))"
   ]
  }
 ],
 "metadata": {
  "kernelspec": {
   "display_name": "base",
   "language": "python",
   "name": "python3"
  },
  "language_info": {
   "codemirror_mode": {
    "name": "ipython",
    "version": 3
   },
   "file_extension": ".py",
   "mimetype": "text/x-python",
   "name": "python",
   "nbconvert_exporter": "python",
   "pygments_lexer": "ipython3",
   "version": "3.10.9"
  }
 },
 "nbformat": 4,
 "nbformat_minor": 2
}
