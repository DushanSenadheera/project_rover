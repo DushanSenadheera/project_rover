{
 "cells": [
  {
   "cell_type": "code",
   "execution_count": 2,
   "metadata": {},
   "outputs": [
    {
     "name": "stdout",
     "output_type": "stream",
     "text": [
      "                         Name Location  Price  Rating Review\n",
      "7              Le Grand Galle    Galle    173     0.0   1041\n",
      "10  Radisson Blu Resort Galle    Galle    125     0.0   2305\n"
     ]
    }
   ],
   "source": [
    "import pandas as pd\n",
    "from sklearn.metrics.pairwise import cosine_similarity\n",
    "from sklearn.feature_extraction.text import TfidfVectorizer\n",
    "from sklearn.preprocessing import MinMaxScaler\n",
    "\n",
    "# Load the dataset\n",
    "def load_data(file_path):\n",
    "    return pd.read_csv(file_path)\n",
    "\n",
    "# Recommendation function based on location, maximum price, reviews, and ratings\n",
    "def recommend_accommodations(data, location, max_price):\n",
    "    # Filter data based on location and price\n",
    "    data = data.loc[(data['Location'] == location) & (data['Price'] <= max_price)].copy()\n",
    "    \n",
    "    # Ensure 'Review' column contains only strings\n",
    "    data.loc[:, 'Review'] = data['Review'].apply(lambda x: str(x) if pd.notnull(x) else '')\n",
    "    \n",
    "    # Apply TF-IDF to 'Review' column\n",
    "    vectorizer = TfidfVectorizer(stop_words='english')\n",
    "    tfidf_matrix = vectorizer.fit_transform(data['Review'])\n",
    "    \n",
    "    # Normalize 'Rating' column\n",
    "    scaler = MinMaxScaler()\n",
    "    data.loc[:, 'Rating'] = scaler.fit_transform(data[['Rating']])\n",
    "    \n",
    "    # Concatenate TF-IDF features and 'Rating' column\n",
    "    features = pd.concat([pd.DataFrame(tfidf_matrix.toarray()), data['Rating'].reset_index(drop=True)], axis=1)\n",
    "    \n",
    "    # Compute cosine similarity matrix\n",
    "    cosine_sim = cosine_similarity(features, features)\n",
    "    \n",
    "    # Get the top 5 most similar accommodations\n",
    "    sim_scores = list(enumerate(cosine_sim[0]))\n",
    "    sim_scores = sorted(sim_scores, key=lambda x: x[1], reverse=True)\n",
    "    sim_scores = sim_scores[1:6]  # Exclude the first one because it's the same accommodation\n",
    "    \n",
    "    # Get the accommodation indices\n",
    "    accommodation_indices = [i[0] for i in sim_scores]\n",
    "    \n",
    "    # Return the top 5 most similar accommodations\n",
    "    return data.iloc[accommodation_indices]\n",
    "\n",
    "# Main function to run the recommendation system\n",
    "def main():\n",
    "    # Path to the dataset\n",
    "    file_path = '../data/accomadations.csv'  # Adjust the path as needed\n",
    "    \n",
    "    # Load the dataset\n",
    "    accommodations_data = load_data(file_path)\n",
    "    \n",
    "    # Example input parameters\n",
    "    location = \"Galle\"\n",
    "    max_price = 500\n",
    "    \n",
    "    # Get recommendations\n",
    "    recommendations = recommend_accommodations(accommodations_data, location, max_price)\n",
    "    \n",
    "    # Print the recommendations\n",
    "    print(recommendations)\n",
    "\n",
    "if __name__ == \"__main__\":\n",
    "    main()"
   ]
  }
 ],
 "metadata": {
  "kernelspec": {
   "display_name": "base",
   "language": "python",
   "name": "python3"
  },
  "language_info": {
   "codemirror_mode": {
    "name": "ipython",
    "version": 3
   },
   "file_extension": ".py",
   "mimetype": "text/x-python",
   "name": "python",
   "nbconvert_exporter": "python",
   "pygments_lexer": "ipython3",
   "version": "3.10.9"
  }
 },
 "nbformat": 4,
 "nbformat_minor": 2
}
