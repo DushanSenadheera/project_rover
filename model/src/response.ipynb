{
 "cells": [
  {
   "cell_type": "code",
   "execution_count": null,
   "metadata": {},
   "outputs": [],
   "source": [
    "\n",
    "\n",
    "# Convert the DataFrame to a list of dictionaries\n",
    "recommendations_list = recommendations.to_dict('records')\n",
    "\n",
    "# print the results as a JSON string\n",
    "print(json.dumps(\n",
    "    {\n",
    "        \"location\": recommendations_list, \n",
    "        #\"accomadation\": result2,\n",
    "        #\"food\": \"dasd\"\n",
    "    }\n",
    "))"
   ]
  }
 ],
 "metadata": {
  "language_info": {
   "name": "python"
  }
 },
 "nbformat": 4,
 "nbformat_minor": 2
}
