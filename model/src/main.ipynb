{
 "cells": [
  {
   "cell_type": "code",
   "execution_count": 1,
   "metadata": {},
   "outputs": [
    {
     "ename": "ModuleNotFoundError",
     "evalue": "No module named 'pandas'",
     "output_type": "error",
     "traceback": [
      "\u001b[1;31m---------------------------------------------------------------------------\u001b[0m",
      "\u001b[1;31mModuleNotFoundError\u001b[0m                       Traceback (most recent call last)",
      "Cell \u001b[1;32mIn[1], line 1\u001b[0m\n\u001b[1;32m----> 1\u001b[0m \u001b[38;5;28;01mimport\u001b[39;00m \u001b[38;5;21;01mpandas\u001b[39;00m \u001b[38;5;28;01mas\u001b[39;00m \u001b[38;5;21;01mpd\u001b[39;00m\n\u001b[0;32m      2\u001b[0m \u001b[38;5;28;01mimport\u001b[39;00m \u001b[38;5;21;01msys\u001b[39;00m\n\u001b[0;32m      3\u001b[0m \u001b[38;5;28;01mfrom\u001b[39;00m \u001b[38;5;21;01msklearn\u001b[39;00m\u001b[38;5;21;01m.\u001b[39;00m\u001b[38;5;21;01mfeature_extraction\u001b[39;00m\u001b[38;5;21;01m.\u001b[39;00m\u001b[38;5;21;01mtext\u001b[39;00m \u001b[38;5;28;01mimport\u001b[39;00m TfidfVectorizer\n",
      "\u001b[1;31mModuleNotFoundError\u001b[0m: No module named 'pandas'"
     ]
    }
   ],
   "source": [
    "import pandas as pd\n",
    "import sys\n",
    "from sklearn.feature_extraction.text import TfidfVectorizer\n",
    "from sklearn.metrics.pairwise import cosine_similarity\n",
    "\n",
    "\n",
    "# location = sys.argv[1]\n",
    "# price = sys.argv[2]\n",
    "# category = sys.argv[3]\n",
    "# duration = sys.argv[4]\n",
    "\n",
    "# Load the dataset\n",
    "df = pd.read_csv('../data/southern.csv')\n",
    "\n",
    "# Combine the location and category into a single string\n",
    "df['Combined'] = df['Location'] + ' ' + df['Category']\n",
    "\n",
    "# Create a TF-IDF vectorizer and fit it to the combined features\n",
    "vectorizer = TfidfVectorizer()\n",
    "tfidf_matrix = vectorizer.fit_transform(df['Combined'])\n",
    "\n",
    "# Define a function to get recommendations based on cosine similarity\n",
    "def get_recommendations(user_input):\n",
    "    # Transform the user input\n",
    "    user_input_transformed = vectorizer.transform([user_input])\n",
    "\n",
    "    # Compute cosine similarity between the user input and all items\n",
    "    cosine_sim = cosine_similarity(user_input_transformed, tfidf_matrix)\n",
    "\n",
    "    # Get the top 10 most similar items\n",
    "    sim_scores = list(enumerate(cosine_sim[0]))\n",
    "    sim_scores = sorted(sim_scores, key=lambda x: x[1], reverse=True)\n",
    "    sim_scores = sim_scores[0:10]\n",
    "\n",
    "    # Get the item indices\n",
    "    item_indices = [i[0] for i in sim_scores]\n",
    "\n",
    "    # Return the top 10 most similar items\n",
    "    return df['Title'].iloc[item_indices]\n",
    "\n",
    "# Assume we have some user input\n",
    "user_input = 'Galle point of interests'\n",
    "\n",
    "# Get recommendations\n",
    "recommendations = get_recommendations(user_input)\n",
    "print(recommendations)"
   ]
  },
  {
   "cell_type": "code",
   "execution_count": null,
   "metadata": {},
   "outputs": [
    {
     "name": "stdout",
     "output_type": "stream",
     "text": [
      "                                                              Name  Location  Rating  Review Budget        Features\n",
      "                        Catch99 at Naomis Restaurant and Sushi bar  Weligama     256       5   high  Weligama 256 5\n",
      "                                         The Natural Earth Company  Weligama     161       5 medium  Weligama 161 5\n",
      "Layback Rooftop Café, Restaurant & Bar (part of Layback surf camp)  Weligama     100       5 medium  Weligama 100 5\n",
      "                    Sea Salt Society - Beach Restaurant - Weligama  Weligama     414       5 medium  Weligama 414 5\n",
      "                                                      Ceylon Excel  Tangalle    1537       5    low Tangalle 1537 5\n",
      "                                           Chill House Restaurant   Tangalle     111       5    low  Tangalle 111 5\n",
      "                                                       Lolami Café   Mirissa     106       5 medium   Mirissa 106 5\n",
      "                                             Church Street Gourmet     Galle     129       5 medium     Galle 129 5\n",
      "                                                       Luuma Beach     Galle      83       5 medium      Galle 83 5\n",
      "          Canal View Hikkaduwa Sri Lankan Homemade Food Restaurant Hikkaduwa     297       5    low Hikkaduwa 297 5\n"
     ]
    }
   ],
   "source": [
    "import pandas as pd\n",
    "from sklearn.feature_extraction.text import TfidfVectorizer\n",
    "from sklearn.metrics.pairwise import linear_kernel\n",
    "\n",
    "# Load the dataset\n",
    "df = pd.read_csv('../data/eat.csv')\n",
    "\n",
    "# Combine the 'Location', 'Category', 'Rating', and 'Reviews' columns into a single 'Features' column\n",
    "df['Features'] = df['Location'] + ' ' + df['Rating'].astype(str) + ' ' + df['Review'].astype(str)\n",
    "\n",
    "# Calculate TF-IDF matrix\n",
    "tfidf = TfidfVectorizer(stop_words='english')\n",
    "df['Features'] = df['Features'].fillna('')\n",
    "tfidf_matrix = tfidf.fit_transform(df['Features'])\n",
    "\n",
    "# Calculate cosine similarity matrix\n",
    "cosine_sim = linear_kernel(tfidf_matrix, tfidf_matrix)\n",
    "\n",
    "# Function to recommend locations based on similarity score\n",
    "def recommend_locations_based_on_features(index, cosine_sim=cosine_sim):\n",
    "    sim_scores = list(enumerate(cosine_sim[index]))\n",
    "    sim_scores = sorted(sim_scores, key=lambda x: x[1], reverse=True)\n",
    "    sim_scores = sim_scores[0:11]\n",
    "    location_indices = [i[0] for i in sim_scores]\n",
    "    recommended_locations = df.iloc[location_indices]\n",
    "    return recommended_locations\n",
    "\n",
    "# Get user input\n",
    "user_input_location = \"Weligama\"\n",
    "\n",
    "# Find the index of the location that matches the user's input\n",
    "location_index = df.loc[(df['Location'] == user_input_location)].index[0]\n",
    "\n",
    "# Recommend locations based on the user's input\n",
    "recommendations = recommend_locations_based_on_features(location_index)\n",
    "print(recommendations.to_string(index=False))"
   ]
  },
  {
   "cell_type": "code",
   "execution_count": null,
   "metadata": {},
   "outputs": [
    {
     "name": "stdout",
     "output_type": "stream",
     "text": [
      "                                           Name    Location  Price  Rating  Review             Features\n",
      "                             Jetwing Lighthouse       Galle    210     4.5    2612       Galle 4.5 2612\n",
      "                                 Le Grand Galle       Galle    173     4.5    1041       Galle 4.5 1041\n",
      "                      Radisson Blu Resort Galle       Galle    125     4.5    2305       Galle 4.5 2305\n",
      "                           Jetwing Saman Villas     Bentota    414     5.0    1394     Bentota 5.0 1394\n",
      "           Anantara Peace Haven Tangalle Resort    Tangalle    234     5.0    4434    Tangalle 5.0 4434\n",
      "                              CoCoBay Unawatuna   Unawatuna    183     4.5    1213   Unawatuna 4.5 1213\n",
      "                          Shangri-La Hambantota Hambanthota    170     4.5    2325 Hambanthota 4.5 2325\n",
      "                         Cinnamon Bentota Beach     Bentota    179     5.0    1191     Bentota 5.0 1191\n",
      "                       Taj Bentota Resort & Spa     Bentota    183     4.5    3970     Bentota 4.5 3970\n",
      "DoubleTree by Hilton Weerawila Rajawarna Resort   Weerawila     96     4.5     353    Weerawila 4.5 353\n",
      "                        The Spice House Mirissa     Mirissa     70     5.0     795      Mirissa 5.0 795\n"
     ]
    }
   ],
   "source": [
    "import pandas as pd\n",
    "from sklearn.feature_extraction.text import TfidfVectorizer\n",
    "from sklearn.metrics.pairwise import linear_kernel\n",
    "\n",
    "# Load the dataset\n",
    "df = pd.read_csv('../data/accomadations.csv')\n",
    "\n",
    "# Combine the 'Location', 'Category', 'Rating', and 'Reviews' columns into a single 'Features' column\n",
    "df['Features'] = df['Location'] + ' ' + df['Rating'].astype(str) + ' ' + df['Review'].astype(str)\n",
    "\n",
    "# Calculate TF-IDF matrix\n",
    "tfidf = TfidfVectorizer(stop_words='english')\n",
    "df['Features'] = df['Features'].fillna('')\n",
    "tfidf_matrix = tfidf.fit_transform(df['Features'])\n",
    "\n",
    "# Calculate cosine similarity matrix\n",
    "cosine_sim = linear_kernel(tfidf_matrix, tfidf_matrix)\n",
    "\n",
    "# Function to recommend locations based on similarity score\n",
    "def recommend_locations_based_on_features(index, cosine_sim=cosine_sim):\n",
    "    sim_scores = list(enumerate(cosine_sim[index]))\n",
    "    sim_scores = sorted(sim_scores, key=lambda x: x[1], reverse=True)\n",
    "    sim_scores = sim_scores[0:11]\n",
    "    location_indices = [i[0] for i in sim_scores]\n",
    "    recommended_locations = df.iloc[location_indices]\n",
    "    return recommended_locations\n",
    "\n",
    "# Get user input\n",
    "user_input_location = \"Galle\"\n",
    "\n",
    "# Find the index of the location that matches the user's input\n",
    "location_index = df.loc[(df['Location'] == user_input_location)].index[0]\n",
    "\n",
    "# Recommend locations based on the user's input\n",
    "recommendations = recommend_locations_based_on_features(location_index)\n",
    "print(recommendations.to_string(index=False))"
   ]
  },
  {
   "cell_type": "code",
   "execution_count": null,
   "metadata": {},
   "outputs": [
    {
     "name": "stdout",
     "output_type": "stream",
     "text": [
      "{\"location\": \"--f=c:\\\\Users\\\\User\\\\AppData\\\\Roaming\\\\jupyter\\\\runtime\\\\kernel-v2-14232gCgg73Rb00Eu.json\"}\n"
     ]
    }
   ],
   "source": [
    "import json\n",
    "import sys\n",
    "\n",
    "data = sys.argv[1]\n",
    "\n",
    "# Convert the DataFrame to a list of dictionaries\n",
    "# recommendations_list = recommendations.to_dict('records')\n",
    "\n",
    "# print the results as a JSON string\n",
    "print(json.dumps(\n",
    "    {\n",
    "        \"location\": data, \n",
    "        #\"accomadation\": result2,\n",
    "        #\"food\": \"dasd\"\n",
    "    }\n",
    "))"
   ]
  }
 ],
 "metadata": {
  "kernelspec": {
   "display_name": "base",
   "language": "python",
   "name": "python3"
  },
  "language_info": {
   "codemirror_mode": {
    "name": "ipython",
    "version": 3
   },
   "file_extension": ".py",
   "mimetype": "text/x-python",
   "name": "python",
   "nbconvert_exporter": "python",
   "pygments_lexer": "ipython3",
   "version": "3.10.6"
  }
 },
 "nbformat": 4,
 "nbformat_minor": 2
}
